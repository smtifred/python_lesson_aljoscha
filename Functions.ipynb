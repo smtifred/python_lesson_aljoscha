{
 "cells": [
  {
   "cell_type": "code",
   "execution_count": 16,
   "metadata": {},
   "outputs": [],
   "source": [
    "dirty_isbns = [\n",
    "    \" ISBN 978-1449369415 \", \n",
    "    \"ISBN___978-1491946008 \",\n",
    "    \"ISBN 978-1593276034\"]"
   ]
  },
  {
   "cell_type": "code",
   "execution_count": 5,
   "metadata": {},
   "outputs": [
    {
     "name": "stdout",
     "output_type": "stream",
     "text": [
      " ISBN 978-1449369415 \n"
     ]
    }
   ],
   "source": [
    "def clean_isbn():\n",
    "    isbn = \" ISBN 978-1449369415 \"\n",
    "    print(isbn)\n",
    "    \n",
    "clean_isbn()"
   ]
  },
  {
   "cell_type": "code",
   "execution_count": 7,
   "metadata": {},
   "outputs": [
    {
     "name": "stdout",
     "output_type": "stream",
     "text": [
      "978-1449369415\n"
     ]
    }
   ],
   "source": [
    "def clean_isbn():\n",
    "    isbn = \" ISBN 978-1449369415 \"\n",
    "    isbn = isbn.replace(\"ISBN\",\"\")\n",
    "    isbn = isbn.strip()\n",
    "    print(isbn)\n",
    "    \n",
    "clean_isbn()"
   ]
  },
  {
   "cell_type": "code",
   "execution_count": 10,
   "metadata": {},
   "outputs": [
    {
     "name": "stdout",
     "output_type": "stream",
     "text": [
      "978-1491946008\n"
     ]
    }
   ],
   "source": [
    "def clean_isbn(isbn):\n",
    "    isbn = isbn.replace(\"ISBN\",\"\")\n",
    "    isbn = isbn.strip()\n",
    "    print(isbn)\n",
    "    \n",
    "clean_isbn(\"ISBN 978-1491946008\")"
   ]
  },
  {
   "cell_type": "code",
   "execution_count": 13,
   "metadata": {},
   "outputs": [],
   "source": [
    "def clean_isbn(isbn):\n",
    "    isbn = isbn.replace(\"ISBN\",\"\")\n",
    "    isbn = isbn.strip()\n",
    "    return(isbn)\n",
    "    \n",
    "cleaned_isbn=clean_isbn(\"ISBN 978-1491946008\")"
   ]
  },
  {
   "cell_type": "code",
   "execution_count": 18,
   "metadata": {},
   "outputs": [
    {
     "name": "stdout",
     "output_type": "stream",
     "text": [
      "Saubere ISBN: 978-1491946008\n"
     ]
    }
   ],
   "source": [
    "print(\"Saubere ISBN: \" + cleaned_isbn)"
   ]
  },
  {
   "cell_type": "code",
   "execution_count": 17,
   "metadata": {},
   "outputs": [
    {
     "ename": "SyntaxError",
     "evalue": "invalid syntax (<ipython-input-17-0952542a2388>, line 1)",
     "output_type": "error",
     "traceback": [
      "\u001b[1;36m  File \u001b[1;32m\"<ipython-input-17-0952542a2388>\"\u001b[1;36m, line \u001b[1;32m1\u001b[0m\n\u001b[1;33m    for dirty_isbn in dirty_isbns\u001b[0m\n\u001b[1;37m                                 ^\u001b[0m\n\u001b[1;31mSyntaxError\u001b[0m\u001b[1;31m:\u001b[0m invalid syntax\n"
     ]
    }
   ],
   "source": [
    "\n",
    "\n",
    "\n",
    "    "
   ]
  },
  {
   "cell_type": "code",
   "execution_count": null,
   "metadata": {},
   "outputs": [],
   "source": []
  }
 ],
 "metadata": {
  "kernelspec": {
   "display_name": "Python 3",
   "language": "python",
   "name": "python3"
  },
  "language_info": {
   "codemirror_mode": {
    "name": "ipython",
    "version": 3
   },
   "file_extension": ".py",
   "mimetype": "text/x-python",
   "name": "python",
   "nbconvert_exporter": "python",
   "pygments_lexer": "ipython3",
   "version": "3.8.5"
  }
 },
 "nbformat": 4,
 "nbformat_minor": 4
}
